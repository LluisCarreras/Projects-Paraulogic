{
 "cells": [
  {
   "cell_type": "code",
   "execution_count": 31,
   "metadata": {},
   "outputs": [
    {
     "data": {
      "text/plain": [
       "'aço'"
      ]
     },
     "execution_count": 31,
     "metadata": {},
     "output_type": "execute_result"
    }
   ],
   "source": [
    "import unicodedata\n",
    "import re\n",
    "\n",
    "def clean_word(raw_word):\n",
    "    # Split and take only the first part\n",
    "    raw_word = raw_word.split()[0]\n",
    "\n",
    "    # Normalize the string to decompose characters with accents\n",
    "    normalized_word = unicodedata.normalize('NFD', raw_word)\n",
    "    # Filter out combining characters (diacritics)\n",
    "    # raw_word = ''.join(char for char in normalized_word if unicodedata.category(char) != 'Mn' or char == 'ç')\n",
    "    raw_word = ''.join(char if char == 'ç' else unicodedata.normalize('NFD', char) for char in raw_word)\n",
    "    raw_word = ''.join(char for char in raw_word if unicodedata.category(char) != 'Mn')\n",
    "\n",
    "    # Delete trailing '-'\n",
    "    if raw_word[0] == '-':\n",
    "        return None\n",
    "    if raw_word[-1] == '-':\n",
    "        return None\n",
    "    \n",
    "    # Removes any non-word and non-space characters\n",
    "    raw_word = re.sub(r'[^a-zA-ZçÇ\\-]', \"\", raw_word)  \n",
    "\n",
    "    # Delete '-se'\n",
    "    if raw_word[-3:] == '-se':\n",
    "        raw_word = raw_word[:-3]\n",
    "\n",
    "    # Removes any nobn trailing '-' \n",
    "    raw_word = re.sub(r'-', \"\", raw_word)  \n",
    "\n",
    "    return raw_word\n",
    "\n",
    "clean_word('açò')\n",
    "\n",
    "    "
   ]
  },
  {
   "cell_type": "code",
   "execution_count": 32,
   "metadata": {},
   "outputs": [],
   "source": [
    "import csv\n",
    "\n",
    "input_file = \"raw_words.csv\"\n",
    "raw_words = []\n",
    "\n",
    "with open(input_file, \"r\", encoding=\"utf-8\") as infile:\n",
    "    reader = csv.reader(infile)\n",
    "    for row in reader:\n",
    "        if row:\n",
    "            raw_word = row[0]\n",
    "            cleaned_word = clean_word(raw_word)\n",
    "            if cleaned_word:\n",
    "                raw_words.append(cleaned_word)"
   ]
  },
  {
   "cell_type": "code",
   "execution_count": 33,
   "metadata": {},
   "outputs": [],
   "source": [
    "raw_words = sorted(list(set(raw_words)))"
   ]
  },
  {
   "cell_type": "code",
   "execution_count": 34,
   "metadata": {},
   "outputs": [],
   "source": [
    "output_file = \"clean_words.csv\"\n",
    "\n",
    "with open(output_file, \"w\", encoding=\"utf-8\", newline=\"\") as outfile:\n",
    "    writer = csv.writer(outfile)\n",
    "    for word in raw_words:\n",
    "        writer.writerow([word])\n"
   ]
  },
  {
   "cell_type": "code",
   "execution_count": null,
   "metadata": {},
   "outputs": [],
   "source": []
  },
  {
   "cell_type": "code",
   "execution_count": null,
   "metadata": {},
   "outputs": [],
   "source": []
  },
  {
   "cell_type": "code",
   "execution_count": null,
   "metadata": {},
   "outputs": [],
   "source": []
  },
  {
   "cell_type": "code",
   "execution_count": null,
   "metadata": {},
   "outputs": [],
   "source": []
  }
 ],
 "metadata": {
  "kernelspec": {
   "display_name": "paraulogic",
   "language": "python",
   "name": "python3"
  },
  "language_info": {
   "codemirror_mode": {
    "name": "ipython",
    "version": 3
   },
   "file_extension": ".py",
   "mimetype": "text/x-python",
   "name": "python",
   "nbconvert_exporter": "python",
   "pygments_lexer": "ipython3",
   "version": "3.11.3"
  }
 },
 "nbformat": 4,
 "nbformat_minor": 2
}
